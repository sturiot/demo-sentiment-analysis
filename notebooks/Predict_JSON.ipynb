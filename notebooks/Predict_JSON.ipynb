{
 "cells": [
  {
   "cell_type": "code",
   "execution_count": 36,
   "id": "906a7953-c709-43b5-bc1b-e258edef1132",
   "metadata": {},
   "outputs": [],
   "source": [
    "import json, os\n",
    "import pandas as pd"
   ]
  },
  {
   "cell_type": "code",
   "execution_count": 19,
   "id": "5b1fbc94-c860-470f-ab00-917604cb994a",
   "metadata": {},
   "outputs": [],
   "source": [
    "root_path = os.path.dirname(os.getcwd())\n",
    "json_uri = root_path + '/data/01_raw/api/test.json'\n",
    "data_uri = root_path + '/data/01_raw/api/data.json'"
   ]
  },
  {
   "cell_type": "code",
   "execution_count": 20,
   "id": "c1ded565-1159-4450-833b-23d385cc4f08",
   "metadata": {},
   "outputs": [],
   "source": [
    "f = open(json_uri)"
   ]
  },
  {
   "cell_type": "code",
   "execution_count": 21,
   "id": "ade9f59a-ba6c-446b-b03c-022f2ae5240d",
   "metadata": {},
   "outputs": [],
   "source": [
    "data = json.load(f)"
   ]
  },
  {
   "cell_type": "code",
   "execution_count": 22,
   "id": "59e4a3a7-9b64-406f-ba02-4101dd7eae52",
   "metadata": {},
   "outputs": [
    {
     "name": "stdout",
     "output_type": "stream",
     "text": [
      "{'parameters': {'content_type': 'str'}, 'inputs': [{'name': 'predict', 'data': ['This film is absolutely appalling and awful.', 'This would probably be a good film to see.', 'Not much to say, certainly the best movie of Christopher Nolan.', 'How did they get investments to make this terrible fiction.'], 'datatype': 'BYTES', 'shape': [4, 1]}]}\n"
     ]
    }
   ],
   "source": [
    "print(data)"
   ]
  },
  {
   "cell_type": "code",
   "execution_count": 23,
   "id": "67f11261-5c56-400a-9420-1226e12aca23",
   "metadata": {},
   "outputs": [],
   "source": [
    "with open(data_uri, 'w') as f:\n",
    "    json.dump(data, f)"
   ]
  },
  {
   "cell_type": "code",
   "execution_count": 24,
   "id": "4e6cc982-28f8-4465-82ae-c09ca1414ff6",
   "metadata": {},
   "outputs": [],
   "source": [
    "data = [\n",
    "\t\t\t\t\"This film is absolutely appalling and awful.\",\n",
    "\t\t\t\t\"This would probably be a good film to see.\",\n",
    "\t\t\t\t\"Not much to say, certainly the best movie of Christopher Nolan.\",\n",
    "\t\t\t\t\"How did they get investments to make this terrible fiction.\"\n",
    "\t\t\t]"
   ]
  },
  {
   "cell_type": "code",
   "execution_count": 25,
   "id": "afef5a55-dc00-4752-89e3-8b362e2ecd69",
   "metadata": {},
   "outputs": [
    {
     "name": "stdout",
     "output_type": "stream",
     "text": [
      "['This film is absolutely appalling and awful.', 'This would probably be a good film to see.', 'Not much to say, certainly the best movie of Christopher Nolan.', 'How did they get investments to make this terrible fiction.']\n"
     ]
    }
   ],
   "source": [
    "print(data)"
   ]
  },
  {
   "cell_type": "code",
   "execution_count": 30,
   "id": "459dbc83-f481-4b5a-9616-62c155ec6d30",
   "metadata": {},
   "outputs": [],
   "source": [
    "with open(data_uri, 'w') as f:\n",
    "    json.dump(data, f)"
   ]
  },
  {
   "cell_type": "code",
   "execution_count": 41,
   "id": "d48337d1-da19-4e68-a2bb-4fd208d251fc",
   "metadata": {},
   "outputs": [],
   "source": [
    "f = open(data_uri)"
   ]
  },
  {
   "cell_type": "code",
   "execution_count": 42,
   "id": "5e3512cf-622d-4c9e-98b3-8545dce03bd2",
   "metadata": {},
   "outputs": [],
   "source": [
    "data = json.load(f)"
   ]
  },
  {
   "cell_type": "code",
   "execution_count": 38,
   "id": "dd991dca-b28e-48d5-afeb-b8bafebc482c",
   "metadata": {},
   "outputs": [],
   "source": [
    "df = pd.DataFrame(data)"
   ]
  },
  {
   "cell_type": "code",
   "execution_count": 40,
   "id": "1d754846-2021-44d3-a0a5-9cad75657ce4",
   "metadata": {},
   "outputs": [
    {
     "name": "stdout",
     "output_type": "stream",
     "text": [
      "                                                   0\n",
      "0       This film is absolutely appalling and awful.\n",
      "1         This would probably be a good film to see.\n",
      "2  Not much to say, certainly the best movie of C...\n",
      "3  How did they get investments to make this terr...\n"
     ]
    }
   ],
   "source": [
    "print(df)"
   ]
  },
  {
   "cell_type": "code",
   "execution_count": 39,
   "id": "e21f1e9b-5d38-4b45-9529-17627c6b1d80",
   "metadata": {},
   "outputs": [
    {
     "name": "stdout",
     "output_type": "stream",
     "text": [
      "['This film is absolutely appalling and awful.', 'This would probably be a good film to see.', 'Not much to say, certainly the best movie of Christopher Nolan.', 'How did they get investments to make this terrible fiction.']\n"
     ]
    }
   ],
   "source": [
    "print(data)"
   ]
  },
  {
   "cell_type": "code",
   "execution_count": null,
   "id": "7b2a7f4d-6810-4cd6-9e81-7d1df9d39ce8",
   "metadata": {},
   "outputs": [],
   "source": []
  },
  {
   "cell_type": "code",
   "execution_count": 47,
   "id": "385d15cf-3c1b-4ff4-9fed-ed6fdba8d244",
   "metadata": {},
   "outputs": [],
   "source": [
    "data = \"[\\\"This film is absolutely appalling and awful.\\\",\\\"This would probably be a good film to see.\\\",\\\"Not much to say, certainly the best movie of Christopher Nolan.\\\",\\\"How did they get investments to make this terrible fiction.\\\"]\""
   ]
  },
  {
   "cell_type": "code",
   "execution_count": 48,
   "id": "64d13639-0328-4cd5-b7ec-bd2a93ce5ea4",
   "metadata": {},
   "outputs": [
    {
     "name": "stdout",
     "output_type": "stream",
     "text": [
      "[\"This film is absolutely appalling and awful.\",\"This would probably be a good film to see.\",\"Not much to say, certainly the best movie of Christopher Nolan.\",\"How did they get investments to make this terrible fiction.\"]\n"
     ]
    }
   ],
   "source": [
    "print(data)"
   ]
  },
  {
   "cell_type": "code",
   "execution_count": 49,
   "id": "aab70906-a831-481f-ae4c-4262b4edcc6e",
   "metadata": {},
   "outputs": [
    {
     "data": {
      "text/plain": [
       "str"
      ]
     },
     "execution_count": 49,
     "metadata": {},
     "output_type": "execute_result"
    }
   ],
   "source": [
    "type(data)"
   ]
  },
  {
   "cell_type": "code",
   "execution_count": 50,
   "id": "a79bf5fe-96cb-4578-b122-e7dd3372b616",
   "metadata": {},
   "outputs": [],
   "source": [
    "data_list = eval(data)"
   ]
  },
  {
   "cell_type": "code",
   "execution_count": 51,
   "id": "e4c0dde7-7568-4d47-b856-3e0816382018",
   "metadata": {},
   "outputs": [
    {
     "data": {
      "text/plain": [
       "list"
      ]
     },
     "execution_count": 51,
     "metadata": {},
     "output_type": "execute_result"
    }
   ],
   "source": [
    "type(data_list)"
   ]
  },
  {
   "cell_type": "code",
   "execution_count": 52,
   "id": "31eea0eb-6039-4f08-8d63-db75f0e0f227",
   "metadata": {},
   "outputs": [
    {
     "name": "stdout",
     "output_type": "stream",
     "text": [
      "['This film is absolutely appalling and awful.', 'This would probably be a good film to see.', 'Not much to say, certainly the best movie of Christopher Nolan.', 'How did they get investments to make this terrible fiction.']\n"
     ]
    }
   ],
   "source": [
    "print(data_list)"
   ]
  },
  {
   "cell_type": "code",
   "execution_count": null,
   "id": "ea2eb84b-94a0-43b9-9790-02266f6cdfa7",
   "metadata": {},
   "outputs": [],
   "source": []
  }
 ],
 "metadata": {
  "kernelspec": {
   "display_name": "handson_k8s",
   "language": "python",
   "name": "azureuser"
  },
  "language_info": {
   "codemirror_mode": {
    "name": "ipython",
    "version": 3
   },
   "file_extension": ".py",
   "mimetype": "text/x-python",
   "name": "python",
   "nbconvert_exporter": "python",
   "pygments_lexer": "ipython3",
   "version": "3.9.17"
  }
 },
 "nbformat": 4,
 "nbformat_minor": 5
}
