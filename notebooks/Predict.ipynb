{
 "cells": [
  {
   "cell_type": "markdown",
   "id": "569d614c-a6a1-4cd3-a8f9-a00b23caef53",
   "metadata": {},
   "source": [
    "# Load Model and make predictions"
   ]
  },
  {
   "cell_type": "markdown",
   "id": "60b414d4-5e57-4d9d-a168-abfcc5c36772",
   "metadata": {},
   "source": [
    "# 1 - Imports"
   ]
  },
  {
   "cell_type": "code",
   "execution_count": 1,
   "id": "cb655e6e-f775-4d0a-9a7d-410ef113f31f",
   "metadata": {},
   "outputs": [],
   "source": [
    "import mlflow.sklearn\n",
    "from pyspark.sql import SparkSession\n",
    "import pandas as pd"
   ]
  },
  {
   "cell_type": "code",
   "execution_count": null,
   "id": "837d7df4-5a53-4ee7-a508-4218be3f2c8d",
   "metadata": {},
   "outputs": [],
   "source": []
  },
  {
   "cell_type": "markdown",
   "id": "91ac7754-a723-4e84-b70e-206e0cf0e215",
   "metadata": {},
   "source": [
    "# 2 - Load Model"
   ]
  },
  {
   "cell_type": "code",
   "execution_count": 3,
   "id": "df575ca5-d563-45cc-84a0-d8fe05a62abc",
   "metadata": {},
   "outputs": [],
   "source": [
    "root_path = os.path.dirname(os.getcwd())\n",
    "model_uri = root_path + '/mlflow-artifacts'\n",
    "model = mlflow.sklearn.load_model(model_uri=model_uri)\n"
   ]
  },
  {
   "cell_type": "code",
   "execution_count": 20,
   "id": "24674590-78a5-48d0-a82b-c16a9f7c976a",
   "metadata": {},
   "outputs": [
    {
     "name": "stdout",
     "output_type": "stream",
     "text": [
      "Pipeline(steps=[('bow_model',\n",
      "                 TfidfVectorizer(max_df=0.8, min_df=5, ngram_range=(1, 2))),\n",
      "                ['log_reg_model', LogisticRegression(C=1)]])\n"
     ]
    }
   ],
   "source": [
    "# sklearn pipeline\n",
    "print(model)"
   ]
  },
  {
   "cell_type": "code",
   "execution_count": null,
   "id": "c08a3458-d61e-4dce-b8ac-c635abcced8e",
   "metadata": {},
   "outputs": [],
   "source": []
  },
  {
   "cell_type": "markdown",
   "id": "2c8f4139-b61d-4e4e-8aef-d4bcf968bc90",
   "metadata": {},
   "source": [
    "# 3 - Predict"
   ]
  },
  {
   "cell_type": "code",
   "execution_count": 27,
   "id": "0dc320b4-a7e1-4494-ace9-938f23664e59",
   "metadata": {},
   "outputs": [],
   "source": [
    "reviews = [\n",
    "    'This film is absolutely appalling and awful.',\n",
    "    'This would probably be a good film to see.',\n",
    "    'Not much to say, certainly the best movie of Christopher Nolan.',\n",
    "    'How did they get investments to make this terrible fiction.'\n",
    "]"
   ]
  },
  {
   "cell_type": "code",
   "execution_count": 28,
   "id": "36fda821-42e9-45b6-82c3-d288963b75d4",
   "metadata": {},
   "outputs": [],
   "source": [
    "predictions = model.predict(reviews)\n",
    "df = pd.DataFrame({\"review\": reviews, \"predictions\": predictions})"
   ]
  },
  {
   "cell_type": "code",
   "execution_count": 29,
   "id": "950313ff-a03a-4e56-95f7-7d5d7774d1aa",
   "metadata": {},
   "outputs": [
    {
     "data": {
      "text/html": [
       "<div>\n",
       "<style scoped>\n",
       "    .dataframe tbody tr th:only-of-type {\n",
       "        vertical-align: middle;\n",
       "    }\n",
       "\n",
       "    .dataframe tbody tr th {\n",
       "        vertical-align: top;\n",
       "    }\n",
       "\n",
       "    .dataframe thead th {\n",
       "        text-align: right;\n",
       "    }\n",
       "</style>\n",
       "<table border=\"1\" class=\"dataframe\">\n",
       "  <thead>\n",
       "    <tr style=\"text-align: right;\">\n",
       "      <th></th>\n",
       "      <th>review</th>\n",
       "      <th>predictions</th>\n",
       "    </tr>\n",
       "  </thead>\n",
       "  <tbody>\n",
       "    <tr>\n",
       "      <th>0</th>\n",
       "      <td>This film is absolutely appalling and awful.</td>\n",
       "      <td>0</td>\n",
       "    </tr>\n",
       "    <tr>\n",
       "      <th>1</th>\n",
       "      <td>This would probably be a good film to see</td>\n",
       "      <td>1</td>\n",
       "    </tr>\n",
       "    <tr>\n",
       "      <th>2</th>\n",
       "      <td>Not much to say, certainly the best movie of C...</td>\n",
       "      <td>1</td>\n",
       "    </tr>\n",
       "    <tr>\n",
       "      <th>3</th>\n",
       "      <td>How did they get investements to make this ter...</td>\n",
       "      <td>0</td>\n",
       "    </tr>\n",
       "  </tbody>\n",
       "</table>\n",
       "</div>"
      ],
      "text/plain": [
       "                                              review  predictions\n",
       "0       This film is absolutely appalling and awful.            0\n",
       "1          This would probably be a good film to see            1\n",
       "2  Not much to say, certainly the best movie of C...            1\n",
       "3  How did they get investements to make this ter...            0"
      ]
     },
     "execution_count": 29,
     "metadata": {},
     "output_type": "execute_result"
    }
   ],
   "source": [
    "df"
   ]
  },
  {
   "cell_type": "code",
   "execution_count": null,
   "id": "ad526def-7b8b-4868-9536-cb6d6d58d720",
   "metadata": {},
   "outputs": [],
   "source": []
  },
  {
   "cell_type": "code",
   "execution_count": null,
   "id": "2515c419-ceef-47ae-9cdb-fb6818cd5ccb",
   "metadata": {},
   "outputs": [],
   "source": []
  }
 ],
 "metadata": {
  "kernelspec": {
   "display_name": "handson_k8s",
   "language": "python",
   "name": "azureuser"
  },
  "language_info": {
   "codemirror_mode": {
    "name": "ipython",
    "version": 3
   },
   "file_extension": ".py",
   "mimetype": "text/x-python",
   "name": "python",
   "nbconvert_exporter": "python",
   "pygments_lexer": "ipython3",
   "version": "3.9.17"
  }
 },
 "nbformat": 4,
 "nbformat_minor": 5
}
