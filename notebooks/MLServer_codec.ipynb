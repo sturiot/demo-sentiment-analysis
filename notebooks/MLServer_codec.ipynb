{
 "cells": [
  {
   "cell_type": "code",
   "execution_count": 2,
   "id": "39166639-cf51-4658-a09c-0dcae4307d99",
   "metadata": {},
   "outputs": [],
   "source": [
    "import pandas as pd\n",
    "from mlserver.codecs import PandasCodec\n",
    "\n"
   ]
  },
  {
   "cell_type": "code",
   "execution_count": 5,
   "id": "96f8e51e-81ad-466e-8617-a125bbfa7ad9",
   "metadata": {},
   "outputs": [],
   "source": [
    "dataframe = pd.DataFrame(\n",
    "    {\n",
    "        'review': [\n",
    "            \"This film is absolutely appalling and awful.\",\n",
    "            \"This would probably be a good film to see.\",\n",
    "            \"Not much to say, certainly the best movie of Christopher Nolan\",\n",
    "            \"How did they get investments to make this terrible fiction.\"\n",
    "        ]\n",
    "    }\n",
    ")\n",
    "\n",
    "inference_request = PandasCodec.encode_request(dataframe)\n",
    "\n",
    "# raw_request will be a Python dictionary compatible with `requests`'s `json` kwarg\n",
    "raw_request = inference_request.dict()"
   ]
  },
  {
   "cell_type": "code",
   "execution_count": 6,
   "id": "dcf0062d-ed51-4d3b-bbe7-48e319c903dd",
   "metadata": {},
   "outputs": [
    {
     "name": "stdout",
     "output_type": "stream",
     "text": [
      "{'parameters': {'content_type': 'pd'}, 'inputs': [{'name': 'review', 'shape': [4, 1], 'datatype': 'BYTES', 'parameters': {'content_type': 'str'}, 'data': [b'This film is absolutely appalling and awful.', b'This would probably be a good film to see.', b'Not much to say, certainly the best movie of Christopher Nolan', b'How did they get investments to make this terrible fiction.']}]}\n"
     ]
    }
   ],
   "source": [
    "print(raw_request)"
   ]
  },
  {
   "cell_type": "code",
   "execution_count": null,
   "id": "85f9a155-0ca4-4bbf-9e35-a3fcc5eef96f",
   "metadata": {},
   "outputs": [],
   "source": []
  }
 ],
 "metadata": {
  "kernelspec": {
   "display_name": "mlserver",
   "language": "python",
   "name": "mlserver"
  },
  "language_info": {
   "codemirror_mode": {
    "name": "ipython",
    "version": 3
   },
   "file_extension": ".py",
   "mimetype": "text/x-python",
   "name": "python",
   "nbconvert_exporter": "python",
   "pygments_lexer": "ipython3",
   "version": "3.9.17"
  }
 },
 "nbformat": 4,
 "nbformat_minor": 5
}
