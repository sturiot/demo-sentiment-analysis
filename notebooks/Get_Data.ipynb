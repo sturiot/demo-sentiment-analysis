{
 "cells": [
  {
   "cell_type": "markdown",
   "metadata": {},
   "source": [
    "# Load data and build dataset"
   ]
  },
  {
   "cell_type": "markdown",
   "metadata": {},
   "source": [
    "# 1 - Imports"
   ]
  },
  {
   "cell_type": "code",
   "execution_count": 1,
   "metadata": {},
   "outputs": [],
   "source": [
    "import pandas as pd\n",
    "import numpy as np\n",
    "import wget\n",
    "import time\n",
    "import tarfile\n",
    "import os\n",
    "from pathlib import Path"
   ]
  },
  {
   "cell_type": "markdown",
   "metadata": {},
   "source": [
    "# 2 - Set the necessary general variables"
   ]
  },
  {
   "cell_type": "code",
   "execution_count": 2,
   "metadata": {},
   "outputs": [],
   "source": [
    "url = 'http://ai.stanford.edu/~amaas/data/sentiment/aclImdb_v1.tar.gz'"
   ]
  },
  {
   "cell_type": "code",
   "execution_count": 3,
   "metadata": {},
   "outputs": [],
   "source": [
    "root_path = os.path.dirname(os.getcwd())\n",
    "data_path = root_path + '/data/'\n",
    "raw_data_path = data_path + \"01_raw/\"\n",
    "init_dataset_path = data_path + \"02_intermediate/\"\n",
    "download_output = raw_data_path + \"/aclImdb_v1.tar.gz\""
   ]
  },
  {
   "cell_type": "markdown",
   "metadata": {},
   "source": []
  },
  {
   "cell_type": "code",
   "execution_count": 4,
   "metadata": {},
   "outputs": [],
   "source": [
    "train_path = \"file://\" + init_dataset_path + \"train.csv\"\n",
    "test_path = \"file://\" + init_dataset_path + \"test.csv\""
   ]
  },
  {
   "cell_type": "markdown",
   "metadata": {},
   "source": [
    "# 3 - Dowload and store data"
   ]
  },
  {
   "cell_type": "code",
   "execution_count": 5,
   "metadata": {},
   "outputs": [
    {
     "data": {
      "text/plain": [
       "'/mnt/batch/tasks/shared/LS_root/mounts/clusters/seb-compute-poc/code/GIT_REPOS/demo-sentiment-analysis/data/01_raw//aclImdb_v1.tar.gz'"
      ]
     },
     "execution_count": 5,
     "metadata": {},
     "output_type": "execute_result"
    }
   ],
   "source": [
    "wget.download(url, download_output)"
   ]
  },
  {
   "cell_type": "code",
   "execution_count": 6,
   "metadata": {},
   "outputs": [],
   "source": [
    "def decompress_dataset(data_file, output_folder):\n",
    "    tic = time.time()\n",
    "    tar = tarfile.open(data_file)\n",
    "    tar.extractall(path=output_folder)\n",
    "    tar.close()\n",
    "    toc = time.time()\n",
    "    print(toc - tic)"
   ]
  },
  {
   "cell_type": "markdown",
   "metadata": {},
   "source": []
  },
  {
   "cell_type": "code",
   "execution_count": 7,
   "metadata": {},
   "outputs": [
    {
     "name": "stdout",
     "output_type": "stream",
     "text": [
      "9933.241953372955\n"
     ]
    }
   ],
   "source": [
    "decompress_dataset(download_output, raw_data_path)"
   ]
  },
  {
   "cell_type": "markdown",
   "metadata": {},
   "source": [
    "# 4 - Process raw data to build dataset"
   ]
  },
  {
   "cell_type": "code",
   "execution_count": 8,
   "metadata": {},
   "outputs": [],
   "source": [
    "def get_texts(path, CLASSES):\n",
    "    texts, labels = [], []\n",
    "    for idx, label in enumerate(CLASSES):\n",
    "        for fname in (path / label).glob('*.*'):\n",
    "            texts.append(fname.open('r', encoding='utf-8').read())\n",
    "            labels.append(idx)\n",
    "    return np.array(texts), np.array(labels)"
   ]
  },
  {
   "cell_type": "code",
   "execution_count": 9,
   "metadata": {},
   "outputs": [],
   "source": [
    "# define function to load process and store dataset as train and test.csv files\n",
    "def extract_transform_load_dataset(raw_data_path, output_path, timeit=True):\n",
    "    tic = time.time()\n",
    "\n",
    "    BOS = 'xbos'\n",
    "    FLD = 'xfld'\n",
    "    CLASSES = ['neg', 'pos', 'unsup']\n",
    "    col_names = ['sentiment', 'review']\n",
    "    np.random.seed(42)\n",
    "\n",
    "    PATH = Path(raw_data_path + 'aclImdb/')\n",
    "    CLAS_PATH = Path(output_path)\n",
    "\n",
    "    print(PATH)\n",
    "    trn_texts, trn_labels = get_texts(PATH / 'train', CLASSES)\n",
    "    print(len(trn_texts))\n",
    "    print(len(trn_labels))\n",
    "    df_trn = pd.DataFrame({'review': trn_texts, 'sentiment': trn_labels}, columns=col_names)\n",
    "    df_trn[df_trn['sentiment'] !=2].to_csv(CLAS_PATH / 'train.csv', index=False)\n",
    "\n",
    "    val_texts, val_labels = get_texts(PATH / 'test', CLASSES)\n",
    "    df_val = pd.DataFrame({'review': val_texts, 'sentiment': val_labels}, columns=col_names)\n",
    "    df_val.to_csv(CLAS_PATH / 'test.csv', index=False) \n",
    "\n",
    "    (CLAS_PATH / 'classes.txt').open('w', encoding='utf-8').writelines(f'{o}\\n' for o in CLASSES)\n",
    "\n",
    "    toc = time.time()\n",
    "    print(np.round(toc - tic, 2), 'sec')  "
   ]
  },
  {
   "cell_type": "code",
   "execution_count": 10,
   "metadata": {},
   "outputs": [
    {
     "name": "stdout",
     "output_type": "stream",
     "text": [
      "/mnt/batch/tasks/shared/LS_root/mounts/clusters/seb-compute-poc/code/GIT_REPOS/demo-sentiment-analysis/data/01_raw/aclImdb\n",
      "75000\n",
      "75000\n",
      "4081.66 sec\n"
     ]
    }
   ],
   "source": [
    "extract_transform_load_dataset(raw_data_path, init_dataset_path, timeit=True)"
   ]
  },
  {
   "cell_type": "markdown",
   "metadata": {},
   "source": [
    "# 5 - Load dataset"
   ]
  },
  {
   "cell_type": "code",
   "execution_count": 7,
   "metadata": {},
   "outputs": [],
   "source": [
    "def load_dataset(train_path, test_path, sample=5000):\n",
    "    tic = time.time()\n",
    "\n",
    "    train_dataset = pd.read_csv(train_path).sample(n=sample)\n",
    "\n",
    "    print(train_dataset.head())\n",
    "\n",
    "    train_reviews = np.array(train_dataset['review'])\n",
    "    train_sentiments = np.array(train_dataset['sentiment'])\n",
    "\n",
    "    test_dataset = pd.read_csv(test_path).sample(n=sample)\n",
    "    test_reviews = np.array(test_dataset['review'])\n",
    "    test_sentiments = np.array(test_dataset['sentiment'])\n",
    "\n",
    "    return train_dataset, test_dataset, train_sentiments, test_sentiments, train_reviews, test_reviews"
   ]
  },
  {
   "cell_type": "code",
   "execution_count": 8,
   "metadata": {},
   "outputs": [
    {
     "name": "stdout",
     "output_type": "stream",
     "text": [
      "       sentiment                                             review\n",
      "18295          1  This isn't among Jimmy Stewart's best films--I...\n",
      "19067          1  I can only echo the praise of the other review...\n",
      "375            0  This movie is just plain dumb.<br /><br />From...\n",
      "14903          1  I found the film quite expressive , the way th...\n",
      "18436          1  Regardless of what personal opinion one may ha...\n"
     ]
    }
   ],
   "source": [
    "train_dataset, test_dataset, train_sentiments, test_sentiments, train_reviews, test_reviews = load_dataset(train_path, test_path)"
   ]
  },
  {
   "cell_type": "code",
   "execution_count": 9,
   "metadata": {},
   "outputs": [
    {
     "name": "stdout",
     "output_type": "stream",
     "text": [
      "[\"I tend to fall in and out of love with anime, as the more you watch the more you notice a lot of shows are just poor copies of the few gems or rehashes of old formulas. But every once in a while one of the true gems comes along and it's originality just blows you away. Haruhi is truly one of those shows. Many anime series are originally manga and sometimes the translation into an animated show is rather poorly done and doesn't utilize the benefits animation has over static drawings. Haruhi is actually based on a series of light novels and fires on all cylinders, beautiful animation, great voice acting, great music and a complete and well paced story. Watch it you won't be disappointed, and I'd suggest watching it in broadcast order it works so much better that way.\"\n",
      " \"A low-rent, cheaply made police thriller that's kept bearable by some fair humorous bits, the nice chemistry between the two leads and, especially, by James Remar's satisfying turn as a narcissistic, psychopathic (and, naturally, indestructible) villain. Obviously a low-quality picture, both visually and dramatically, with a rather resigned Burt, but not unwatchable. (**)\"\n",
      " \"Most movies from Hollywood seem to follow one of a few pre-formulated and very predictable plots. This film does not and is a perfect example of what I watch IFC for.<br /><br />There's a guy, Michael, and his girlfriend left him with out a word. He wants to know what happened. Is she OK ? Can he say goodbye ? Perhaps get some closure. He hasn't been able to contact Grace and in an effort to find her he has made a film asking for your help.<br /><br />Michael figures we might need a reason to help him, so he tells us his story by reliving his relationship with the help of a friend ( Nadia ) to play the role of Grace ( the girlfriend who left) <br /><br />Hind sight is 20/20 and it is no different for Michael. By telling his story, and getting feedback from his friends, he realizes his mistakes and just how much he values what he has lost. This is unfortunately a lesson we all have had to learn ( or need to learn ) and is easy to identify with. That is what makes you want to hear more of Michael's story and wanting to know if he finds Grace.\"\n",
      " ...\n",
      " 'On my continuing quest to find the worst movie of all time, my friends and I stumbled upon this little gem. It is hilarious through and through, especially if you don\\'t know (like we didn\\'t) that it\\'s a semi-sequel to another horror series.<br /><br />I won\\'t bother going into the plot except to mention that everyone complains about the horrible snowstorm that was coming (it was equivalent to the characters just screaming \"FORESHADOWING!\" at the camera and waving their arms), and, in some odd twist of fate, the snow storm ever occurs. Budget problems, I guess.<br /><br />Add that to a magical front door that is opened or closed depending on what scare effect the director wants to create and the electricity being cut off until the gym teacher decides to take a shower with lots of soap. I\\'ll admit it; I had trouble breathing at points.<br /><br />The only actual decent part of this movie, as it turns out, was from the original Slumber Party Massacre movie. It\\'s so much funnier now that I know that.<br /><br />*SPOILER* The end, where it is revealed that the slasher did it because her drunk friends stumbled in on her and a female friend making out and then the friend driving into a train or something is probably the funniest psycho killer origin ever, heightened by the fabulous use of blurring and stock footage. I\\'m glad all of the slasher\\'s friends forgot the incident completely until a flashback was necessary. <br /><br />Run, don\\'t walk, to pick this up and see the hilarity. Of course, the continuity editor should be given an award for all of this, if only they weren\\'t stuck in that horrible snow storm...'\n",
      " \"First of all, I must say that I love this film.<br /><br />It was the first film that I saw from director Micheal Haneke and I was impressed that how good the direction was good !<br /><br />Haneke surely knows how to direct actors. What I found intresting is also Haneke's scenario. At first, you saw a woman who is very straight and seems to be a good piano teacher and very well loved and respected from everybody in her entourage. Then you realise that she has a mother who is a controle freak and is too much present in her life. Now you know that she is deranged, that she has emotional problems, but you don't know exactly what. And then you fall into her dark side, but her dark side is only reveal when a student sendenly fall in love with her. She can't controled herself anymore.<br /><br />The roles are very complexed and difficult to play, but Isabelle Huppert is marvellous in her role and she deserves the recognition she had at Cannes Festival. Benoit Maginel is very solid too, but a little bit eclipse by Huppert's performance.<br /><br />There is one thing that I found strange in the scenario is how the character played by Magimel is not very credible. He is too talented! It is rare that a person is a piano virtuoso, but pass the most of the his time to play hockey and study... It think that it is a weak point, but only a minor flaw.<br /><br />I just saw the movie once, so I can't do a very complete critic, because I didn't analysed the movie. I like what I saw ! so I give the film a 8.5/10<br /><br />Oh yeah... as for the end, Haneke showed that he really wanted to shock his audience. A motivation that don't think is necessary to make movies, but Haneke does it with style and precision, that is why his film is better than Baise-Moi for example.<br /><br />Vince\"\n",
      " \"This is a charming movie starring everyone's favorite cartoon chipmunks. In this feature we follow the band of rodents on an unforgettable balloon race around the world. Although there are lows, including an orphan penguin, all in all it's a great family film.\"]\n"
     ]
    }
   ],
   "source": [
    "print(test_reviews)"
   ]
  },
  {
   "cell_type": "code",
   "execution_count": null,
   "metadata": {},
   "outputs": [],
   "source": []
  },
  {
   "cell_type": "code",
   "execution_count": null,
   "metadata": {},
   "outputs": [],
   "source": []
  },
  {
   "cell_type": "code",
   "execution_count": null,
   "metadata": {},
   "outputs": [],
   "source": []
  },
  {
   "cell_type": "code",
   "execution_count": null,
   "metadata": {},
   "outputs": [],
   "source": []
  },
  {
   "cell_type": "code",
   "execution_count": null,
   "metadata": {},
   "outputs": [],
   "source": []
  },
  {
   "cell_type": "markdown",
   "metadata": {},
   "source": [
    "# 6 - Store dataset in HDFS"
   ]
  },
  {
   "cell_type": "markdown",
   "metadata": {},
   "source": []
  },
  {
   "cell_type": "code",
   "execution_count": null,
   "metadata": {},
   "outputs": [],
   "source": [
    "import pyspark\n",
    "from pyspark.sql.typs import *\n",
    "from pyspark.sql.context import SQLContext\n",
    "\n",
    "def equivalent_type(f):\n",
    "    if f == 'datetime64[ns]': return DateType()\n",
    "    elif f == 'int64': return LongType()\n",
    "    elif f == 'int32': return IntegerType()\n",
    "    elif f == 'float64': return FloatType()\n",
    "    else: return StringType()\n",
    "\n",
    "def define_structure(string, format_type):\n",
    "    try: typo - equivalent_type(format_type)\n",
    "    except: typo = StringType()\n",
    "    return StrucField(string, typo)\n",
    "\n",
    "def pandas_to_spark(pandas_df):\n",
    "    column = list(pandas_df.columns)\n",
    "    types = list(pandas_df.dtypes)\n",
    "    struct_list = []\n",
    "    for column, typo in zip(columns, types):\n",
    "        struct_list.append(define_structure(column, typo))\n",
    "    p_schema = StructType(struct_list)\n",
    "    return spark.createDataFrame(pandas_df, p_schema)\n",
    "\n",
    "def save_csv(pandas_df, path):\n",
    "    df = pandas_to_spark(pandas_df)\n",
    "    df.coalesce(1).write.csv(path = path, header=\"true\", mode=\"overwrite\", sep=\",\")\n",
    "    "
   ]
  },
  {
   "cell_type": "code",
   "execution_count": null,
   "metadata": {},
   "outputs": [],
   "source": []
  },
  {
   "cell_type": "code",
   "execution_count": null,
   "metadata": {},
   "outputs": [],
   "source": []
  }
 ],
 "metadata": {
  "kernelspec": {
   "display_name": "handson_k8s",
   "language": "python",
   "name": "azureuser"
  },
  "language_info": {
   "codemirror_mode": {
    "name": "ipython",
    "version": 3
   },
   "file_extension": ".py",
   "mimetype": "text/x-python",
   "name": "python",
   "nbconvert_exporter": "python",
   "pygments_lexer": "ipython3",
   "version": "3.9.17"
  }
 },
 "nbformat": 4,
 "nbformat_minor": 4
}
